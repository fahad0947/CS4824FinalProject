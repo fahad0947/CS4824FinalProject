{
  "nbformat": 4,
  "nbformat_minor": 0,
  "metadata": {
    "colab": {
      "provenance": [],
      "gpuType": "V28"
    },
    "kernelspec": {
      "name": "python3",
      "display_name": "Python 3"
    },
    "language_info": {
      "name": "python"
    },
    "accelerator": "TPU"
  },
  "cells": [
    {
      "cell_type": "markdown",
      "source": [
        "\n",
        "\n",
        "\n",
        "Hi! this is my code for my CS 4824 final project for Fall 2024. First we have imports :))\n",
        "\n"
      ],
      "metadata": {
        "id": "5oi2oFO40ESZ"
      }
    },
    {
      "cell_type": "code",
      "source": [
        "!pip install pandas numpy scikit-learn surprise"
      ],
      "metadata": {
        "colab": {
          "base_uri": "https://localhost:8080/"
        },
        "id": "7Ac2vJ9S0bZN",
        "outputId": "034e0e66-434e-4f83-877a-f4439510e397"
      },
      "execution_count": 4,
      "outputs": [
        {
          "output_type": "stream",
          "name": "stdout",
          "text": [
            "Requirement already satisfied: pandas in /usr/local/lib/python3.10/dist-packages (2.2.2)\n",
            "Requirement already satisfied: numpy in /usr/local/lib/python3.10/dist-packages (1.26.4)\n",
            "Requirement already satisfied: scikit-learn in /usr/local/lib/python3.10/dist-packages (1.5.2)\n",
            "Collecting surprise\n",
            "  Downloading surprise-0.1-py2.py3-none-any.whl.metadata (327 bytes)\n",
            "Requirement already satisfied: python-dateutil>=2.8.2 in /usr/local/lib/python3.10/dist-packages (from pandas) (2.9.0.post0)\n",
            "Requirement already satisfied: pytz>=2020.1 in /usr/local/lib/python3.10/dist-packages (from pandas) (2024.2)\n",
            "Requirement already satisfied: tzdata>=2022.7 in /usr/local/lib/python3.10/dist-packages (from pandas) (2024.2)\n",
            "Requirement already satisfied: scipy>=1.6.0 in /usr/local/lib/python3.10/dist-packages (from scikit-learn) (1.13.1)\n",
            "Requirement already satisfied: joblib>=1.2.0 in /usr/local/lib/python3.10/dist-packages (from scikit-learn) (1.4.2)\n",
            "Requirement already satisfied: threadpoolctl>=3.1.0 in /usr/local/lib/python3.10/dist-packages (from scikit-learn) (3.5.0)\n",
            "Collecting scikit-surprise (from surprise)\n",
            "  Downloading scikit_surprise-1.1.4.tar.gz (154 kB)\n",
            "\u001b[2K     \u001b[90m━━━━━━━━━━━━━━━━━━━━━━━━━━━━━━━━━━━━━━━━\u001b[0m \u001b[32m154.4/154.4 kB\u001b[0m \u001b[31m3.2 MB/s\u001b[0m eta \u001b[36m0:00:00\u001b[0m\n",
            "\u001b[?25h  Installing build dependencies ... \u001b[?25l\u001b[?25hdone\n",
            "  Getting requirements to build wheel ... \u001b[?25l\u001b[?25hdone\n",
            "  Preparing metadata (pyproject.toml) ... \u001b[?25l\u001b[?25hdone\n",
            "Requirement already satisfied: six>=1.5 in /usr/local/lib/python3.10/dist-packages (from python-dateutil>=2.8.2->pandas) (1.17.0)\n",
            "Downloading surprise-0.1-py2.py3-none-any.whl (1.8 kB)\n",
            "Building wheels for collected packages: scikit-surprise\n",
            "  Building wheel for scikit-surprise (pyproject.toml) ... \u001b[?25l\u001b[?25hdone\n",
            "  Created wheel for scikit-surprise: filename=scikit_surprise-1.1.4-cp310-cp310-linux_x86_64.whl size=2357290 sha256=341fd57ab9708ccc723ca8d39d3d1e6d408084ff0441d9e94086dd63034ea0d7\n",
            "  Stored in directory: /root/.cache/pip/wheels/4b/3f/df/6acbf0a40397d9bf3ff97f582cc22fb9ce66adde75bc71fd54\n",
            "Successfully built scikit-surprise\n",
            "Installing collected packages: scikit-surprise, surprise\n",
            "Successfully installed scikit-surprise-1.1.4 surprise-0.1\n"
          ]
        }
      ]
    },
    {
      "cell_type": "code",
      "source": [
        "import pandas as pd\n",
        "import numpy as np\n",
        "from sklearn.model_selection import train_test_split\n",
        "from surprise import SVD, Dataset, Reader, accuracy\n",
        "from surprise.model_selection import train_test_split as surprise_train_test_split\n",
        "\n",
        "\n",
        "\n"
      ],
      "metadata": {
        "id": "kT0P6HTJ0UjC"
      },
      "execution_count": 7,
      "outputs": []
    },
    {
      "cell_type": "code",
      "source": [
        "# Mount Google Drive for accessing datasets\n",
        "from google.colab import drive\n",
        "drive.mount('/content/drive')"
      ],
      "metadata": {
        "id": "azG-62BsXU7T",
        "colab": {
          "base_uri": "https://localhost:8080/"
        },
        "outputId": "7d0148ac-32d5-431b-f17e-517445099de2"
      },
      "execution_count": 6,
      "outputs": [
        {
          "output_type": "stream",
          "name": "stdout",
          "text": [
            "Mounted at /content/drive\n"
          ]
        }
      ]
    },
    {
      "cell_type": "code",
      "source": [
        "# Define the path to the dataset\n",
        "data_path = '/content/drive/MyDrive/Colab Notebooks/CS4824Project/animelist.csv'\n",
        "\n",
        "# My data can be found at this kaggle dataset:\n",
        "# https://www.kaggle.com/code/chaitanya99/recommendation-system-cf-anime/input\n",
        "\n",
        "# Load the dataset using pandas, selecting relevant columns for analysis\n",
        "rating_df = pd.read_csv(data_path, low_memory=False, usecols=[\"user_id\", \"anime_id\", \"rating\"])\n",
        "\n",
        "# Filter users who have rated at least 400 anime\n",
        "n_ratings = rating_df['user_id'].value_counts()\n",
        "rating_df = rating_df[rating_df['user_id'].isin(n_ratings[n_ratings >= 400].index)].copy()\n",
        "print(f\"Number of ratings after filtering users with >= 400 ratings: {len(rating_df)}\")\n",
        "\n",
        "# Scale ratings to be between 0 and 1\n",
        "min_rating = min(rating_df['rating'])\n",
        "max_rating = max(rating_df['rating'])\n",
        "rating_df['rating'] = rating_df['rating'].apply(lambda x: (x - min_rating) / (max_rating - min_rating)).values.astype(np.float64)\n",
        "\n",
        "# Compute and display the average rating\n",
        "avg_rating = np.mean(rating_df['rating'])\n",
        "print(f\"Average scaled rating: {avg_rating}\")\n",
        "\n",
        "# Identify and remove duplicate rows in the dataset\n",
        "duplicates = rating_df.duplicated()\n",
        "if duplicates.sum() > 0:\n",
        "    print(f\"> Found {duplicates.sum()} duplicate rows. Removing duplicates...\")\n",
        "    rating_df = rating_df[~duplicates]\n",
        "\n",
        "# Verify that no duplicates remain\n",
        "print(f\"> Remaining duplicate rows after removal: {rating_df.duplicated().sum()}\")\n",
        "\n",
        "# Identify top 20 users with the most ratings\n",
        "g = rating_df.groupby('user_id')['rating'].count()\n",
        "top_users = g.dropna().sort_values(ascending=False)[:20]\n",
        "\n",
        "# Identify top 20 anime with the most ratings\n",
        "g = rating_df.groupby('anime_id')['rating'].count()\n",
        "top_animes = g.dropna().sort_values(ascending=False)[:20]\n",
        "\n",
        "# Join the dataset to focus on top users and anime\n",
        "top_r = rating_df.join(top_users, rsuffix='_r', how='inner', on='user_id')\n",
        "top_r = top_r.join(top_animes, rsuffix='_r', how='inner', on='anime_id')\n",
        "\n",
        "# Create a pivot table to visualize user-anime interactions\n",
        "user_anime_matrix = pd.crosstab(top_r['user_id'], top_r['anime_id'], top_r['rating'], aggfunc=np.sum)\n",
        "print(\"User-Anime matrix created for top users and anime.\")\n",
        "\n",
        "# Uncomment and use the following lines for debugging or additional dataset exploration\n",
        "print(user_anime_matrix.head())"
      ],
      "metadata": {
        "colab": {
          "base_uri": "https://localhost:8080/"
        },
        "id": "pKkcfodwDU1X",
        "outputId": "c6103f5d-9b5c-4653-cd98-a0f702eab634"
      },
      "execution_count": 8,
      "outputs": [
        {
          "output_type": "stream",
          "name": "stdout",
          "text": [
            "Number of ratings after filtering users with >= 400 ratings: 71418114\n",
            "Average scaled rating: 0.4047793589172634\n",
            "> Found 1 duplicate rows. Removing duplicates...\n",
            "> Remaining duplicate rows after removal: 0\n",
            "User-Anime matrix created for top users and anime.\n",
            "anime_id  226    1535   1575   2001   2167   4224   5081   5114   6547   \\\n",
            "user_id                                                                   \n",
            "20807       1.0    1.0    1.0    1.0    0.8    1.0    0.9    1.0    1.0   \n",
            "50485       0.0    0.6    1.0    1.0    0.9    1.0    1.0    1.0    1.0   \n",
            "63900       0.7    0.0    0.0    0.0    0.0    0.0    0.0    0.9    0.0   \n",
            "68042       0.8    1.0    0.9    1.0    0.7    0.9    1.0    0.9    0.7   \n",
            "85472       0.7    0.0    0.0    1.0    0.9    0.9    0.0    0.0    1.0   \n",
            "\n",
            "anime_id  6746   9253   9989   10620  11757  15809  16498  19815  20507  \\\n",
            "user_id                                                                   \n",
            "20807       1.0    1.0    0.9    1.0    1.0    0.8    1.0    1.0    1.0   \n",
            "50485       0.9    1.0    0.9    0.6    1.0    1.0    0.9    1.0    1.0   \n",
            "63900       0.0    0.0    0.8    0.0    0.0    0.0    0.8    0.0    0.8   \n",
            "68042       0.8    0.9    0.8    0.4    0.4    0.6    0.9    0.3    0.2   \n",
            "85472       0.0    0.8    0.0    0.8    0.9    0.8    0.8    0.7    0.7   \n",
            "\n",
            "anime_id  22319  30276  \n",
            "user_id                 \n",
            "20807       1.0    1.0  \n",
            "50485       1.0    0.8  \n",
            "63900       0.8    0.8  \n",
            "68042       0.5    0.9  \n",
            "85472       0.7    0.9  \n"
          ]
        },
        {
          "output_type": "stream",
          "name": "stderr",
          "text": [
            "<ipython-input-8-af41bf162be4>:43: FutureWarning: The provided callable <function sum at 0x7f73cd1be560> is currently using DataFrameGroupBy.sum. In a future version of pandas, the provided callable will be used directly. To keep current behavior pass the string \"sum\" instead.\n",
            "  user_anime_matrix = pd.crosstab(top_r['user_id'], top_r['anime_id'], top_r['rating'], aggfunc=np.sum)\n"
          ]
        }
      ]
    },
    {
      "cell_type": "code",
      "source": [
        "# Encode user and anime IDs for model input\n",
        "user_ids = rating_df[\"user_id\"].unique().tolist()\n",
        "user2user_encoded = {x: i for i, x in enumerate(user_ids)}\n",
        "user_encoded2user = {i: x for i, x in enumerate(user_ids)}\n",
        "rating_df[\"user\"] = rating_df[\"user_id\"].map(user2user_encoded)\n",
        "n_users = len(user2user_encoded)\n",
        "\n",
        "anime_ids = rating_df[\"anime_id\"].unique().tolist()\n",
        "anime2anime_encoded = {x: i for i, x in enumerate(anime_ids)}\n",
        "anime_encoded2anime = {i: x for i, x in enumerate(anime_ids)}\n",
        "rating_df[\"anime\"] = rating_df[\"anime_id\"].map(anime2anime_encoded)\n",
        "n_animes = len(anime2anime_encoded)\n",
        "\n",
        "print(f\"Num of users: {n_users}, Num of anime: {n_animes}\")\n",
        "print(f\"Min rating: {min(rating_df['rating'])}, Max rating: {max(rating_df['rating'])}\")\n",
        "\n",
        "# Shuffle the dataset to randomize input\n",
        "rating_df = rating_df.sample(frac=1, random_state=73)\n",
        "\n",
        "# Prepare feature and target arrays for training and testing\n",
        "X = rating_df[['user', 'anime']].values\n",
        "y = rating_df[\"rating\"]\n",
        "\n",
        "# Split dataset into training and test sets\n",
        "test_set_size = 10000  # Define size of the test set\n",
        "train_indices = rating_df.shape[0] - test_set_size\n",
        "\n",
        "X_train, X_test, y_train, y_test = (\n",
        "    X[:train_indices],\n",
        "    X[train_indices:],\n",
        "    y[:train_indices],\n",
        "    y[train_indices:],\n",
        ")\n",
        "\n",
        "print(f\"> Train set ratings: {len(y_train)}\")\n",
        "print(f\"> Test set ratings: {len(y_test)}\")\n",
        "\n",
        "# Prepare arrays for model input\n",
        "X_train_array = [X_train[:, 0], X_train[:, 1]]\n",
        "X_test_array = [X_test[:, 0], X_test[:, 1]]\n",
        "\n",
        "\n"
      ],
      "metadata": {
        "colab": {
          "base_uri": "https://localhost:8080/"
        },
        "id": "iVqVWpJI__4F",
        "outputId": "8246bc80-8d41-4a78-f640-478e971cb5f3"
      },
      "execution_count": 9,
      "outputs": [
        {
          "output_type": "stream",
          "name": "stdout",
          "text": [
            "Num of users: 91641, Num of anime: 17560\n",
            "Min rating: 0.0, Max rating: 1.0\n",
            "> Train set ratings: 71408113\n",
            "> Test set ratings: 10000\n"
          ]
        }
      ]
    },
    {
      "cell_type": "code",
      "source": [
        "# Check accelerator setup for TensorFlow\n",
        "import tensorflow as tf\n",
        "\n",
        "TPU_INIT = True\n",
        "\n",
        "if TPU_INIT:\n",
        "    resolver = tf.distribute.cluster_resolver.TPUClusterResolver()\n",
        "    tf.config.experimental_connect_to_cluster(resolver)\n",
        "    tf.tpu.experimental.initialize_tpu_system(resolver)\n",
        "    tpu_strategy = tf.distribute.experimental.TPUStrategy(resolver)\n",
        "else:\n",
        "    !nvidia-smi\n",
        "\n",
        "print(f\"TensorFlow version: {tf.__version__}\")\n",
        "\n"
      ],
      "metadata": {
        "colab": {
          "base_uri": "https://localhost:8080/"
        },
        "id": "xAGuhdBVfVSL",
        "outputId": "fccc307d-20d3-454b-9062-962936278d07"
      },
      "execution_count": 10,
      "outputs": [
        {
          "output_type": "stream",
          "name": "stderr",
          "text": [
            "WARNING:absl:`tf.distribute.experimental.TPUStrategy` is deprecated, please use the non-experimental symbol `tf.distribute.TPUStrategy` instead.\n"
          ]
        },
        {
          "output_type": "stream",
          "name": "stdout",
          "text": [
            "TensorFlow version: 2.15.0\n"
          ]
        }
      ]
    },
    {
      "cell_type": "code",
      "source": [
        "# Import necessary TensorFlow modules\n",
        "from tensorflow.keras import layers\n",
        "from tensorflow.keras.models import Model\n",
        "from tensorflow.keras.optimizers import Adam\n"
      ],
      "metadata": {
        "id": "uDwsEKGVP5Y8"
      },
      "execution_count": 11,
      "outputs": []
    },
    {
      "cell_type": "code",
      "source": [
        "from tensorflow.keras.layers import Add, Activation, Lambda, BatchNormalization, Concatenate, Dropout, Input, Embedding, Dot, Reshape, Dense, Flatten\n",
        "\n",
        "def RecommenderNet():\n",
        "    embedding_size = 128\n",
        "\n",
        "    user = Input(name = 'user', shape = [1])\n",
        "    user_embedding = Embedding(name = 'user_embedding',\n",
        "                       input_dim = n_users,\n",
        "                       output_dim = embedding_size)(user)\n",
        "\n",
        "    anime = Input(name = 'anime', shape = [1])\n",
        "    anime_embedding = Embedding(name = 'anime_embedding',\n",
        "                       input_dim = n_animes,\n",
        "                       output_dim = embedding_size)(anime)\n",
        "\n",
        "    #x = Concatenate()([user_embedding, anime_embedding])\n",
        "    x = Dot(name = 'dot_product', normalize = True, axes = 2)([user_embedding, anime_embedding])\n",
        "    x = Flatten()(x)\n",
        "\n",
        "    x = Dense(1, kernel_initializer='he_normal')(x)\n",
        "    x = BatchNormalization()(x)\n",
        "    x = Activation(\"sigmoid\")(x)\n",
        "\n",
        "    model = Model(inputs=[user, anime], outputs=x)\n",
        "    model.compile(loss='binary_crossentropy', metrics=[\"mae\", \"mse\"], optimizer='Adam')\n",
        "\n",
        "    return model\n",
        "\n",
        "if TPU_INIT:\n",
        "    with tpu_strategy.scope():\n",
        "        model = RecommenderNet()\n",
        "else:\n",
        "    model = RecommenderNet()\n",
        "\n",
        "model.summary()"
      ],
      "metadata": {
        "colab": {
          "base_uri": "https://localhost:8080/"
        },
        "id": "l0VyfPsbAE3h",
        "outputId": "9a12dd07-81f9-4843-fcb4-3b86d440799f"
      },
      "execution_count": 12,
      "outputs": [
        {
          "output_type": "stream",
          "name": "stdout",
          "text": [
            "Model: \"model\"\n",
            "__________________________________________________________________________________________________\n",
            " Layer (type)                Output Shape                 Param #   Connected to                  \n",
            "==================================================================================================\n",
            " user (InputLayer)           [(None, 1)]                  0         []                            \n",
            "                                                                                                  \n",
            " anime (InputLayer)          [(None, 1)]                  0         []                            \n",
            "                                                                                                  \n",
            " user_embedding (Embedding)  (None, 1, 128)               1173004   ['user[0][0]']                \n",
            "                                                          8                                       \n",
            "                                                                                                  \n",
            " anime_embedding (Embedding  (None, 1, 128)               2247680   ['anime[0][0]']               \n",
            " )                                                                                                \n",
            "                                                                                                  \n",
            " dot_product (Dot)           (None, 1, 1)                 0         ['user_embedding[0][0]',      \n",
            "                                                                     'anime_embedding[0][0]']     \n",
            "                                                                                                  \n",
            " flatten (Flatten)           (None, 1)                    0         ['dot_product[0][0]']         \n",
            "                                                                                                  \n",
            " dense (Dense)               (None, 1)                    2         ['flatten[0][0]']             \n",
            "                                                                                                  \n",
            " batch_normalization (Batch  (None, 1)                    4         ['dense[0][0]']               \n",
            " Normalization)                                                                                   \n",
            "                                                                                                  \n",
            " activation (Activation)     (None, 1)                    0         ['batch_normalization[0][0]'] \n",
            "                                                                                                  \n",
            "==================================================================================================\n",
            "Total params: 13977734 (53.32 MB)\n",
            "Trainable params: 13977732 (53.32 MB)\n",
            "Non-trainable params: 2 (8.00 Byte)\n",
            "__________________________________________________________________________________________________\n"
          ]
        }
      ]
    },
    {
      "cell_type": "code",
      "source": [
        "# Callbacks\n",
        "from tensorflow.keras.callbacks import Callback, ModelCheckpoint, LearningRateScheduler, TensorBoard, EarlyStopping, ReduceLROnPlateau\n",
        "\n",
        "start_lr = 0.0003\n",
        "min_lr = 0.0001\n",
        "max_lr = 0.001\n",
        "batch_size = 10000\n",
        "\n",
        "if TPU_INIT:\n",
        "    max_lr = max_lr * tpu_strategy.num_replicas_in_sync\n",
        "    batch_size = batch_size * tpu_strategy.num_replicas_in_sync\n",
        "\n",
        "rampup_epochs = 5\n",
        "sustain_epochs = 0\n",
        "exp_decay = .8\n",
        "\n",
        "def lrfn(epoch):\n",
        "    if epoch < rampup_epochs:\n",
        "        return (max_lr - start_lr)/rampup_epochs * epoch + start_lr\n",
        "    elif epoch < rampup_epochs + sustain_epochs:\n",
        "        return max_lr\n",
        "    else:\n",
        "        return (max_lr - min_lr) * exp_decay**(epoch-rampup_epochs-sustain_epochs) + min_lr\n",
        "\n",
        "\n",
        "lr_callback = LearningRateScheduler(lambda epoch: lrfn(epoch), verbose=0)\n",
        "\n",
        "checkpoint_filepath = './weights.h5'\n",
        "\n",
        "model_checkpoints = ModelCheckpoint(filepath=checkpoint_filepath,\n",
        "                                        save_weights_only=True,\n",
        "                                        monitor='val_loss',\n",
        "                                        mode='min',\n",
        "                                        save_best_only=True)\n",
        "\n",
        "early_stopping = EarlyStopping(patience = 3, monitor='val_loss',\n",
        "                               mode='min', restore_best_weights=True)\n",
        "\n",
        "my_callbacks = [\n",
        "    model_checkpoints,\n",
        "    lr_callback,\n",
        "    early_stopping,\n",
        "]"
      ],
      "metadata": {
        "id": "f7opMTU8D2g8"
      },
      "execution_count": 13,
      "outputs": []
    },
    {
      "cell_type": "code",
      "source": [
        "# Model training\n",
        "history = model.fit(\n",
        "    x=X_train_array,\n",
        "    y=y_train,\n",
        "    batch_size=batch_size,\n",
        "    epochs=20,\n",
        "    verbose=1,\n",
        "    validation_data=(X_test_array, y_test),\n",
        "    callbacks=my_callbacks\n",
        ")\n",
        "\n",
        "model.load_weights(checkpoint_filepath)"
      ],
      "metadata": {
        "colab": {
          "base_uri": "https://localhost:8080/"
        },
        "id": "s0nekOCCLKd2",
        "outputId": "033941cd-71e6-43c3-962b-cbea4ab7dd82"
      },
      "execution_count": 14,
      "outputs": [
        {
          "output_type": "stream",
          "name": "stdout",
          "text": [
            "Epoch 1/20\n",
            "893/893 [==============================] - 44s 35ms/step - loss: 0.8039 - mae: 0.3848 - mse: 0.2001 - val_loss: 0.7999 - val_mae: 0.3847 - val_mse: 0.1998 - lr: 5.0000e-06\n",
            "Epoch 2/20\n",
            "893/893 [==============================] - 26s 30ms/step - loss: 0.7994 - mae: 0.3837 - mse: 0.1985 - val_loss: 0.7941 - val_mae: 0.3835 - val_mse: 0.1978 - lr: 2.0000e-05\n",
            "Epoch 3/20\n",
            "893/893 [==============================] - 26s 29ms/step - loss: 0.7856 - mae: 0.3792 - mse: 0.1932 - val_loss: 0.7769 - val_mae: 0.3775 - val_mse: 0.1911 - lr: 3.5000e-05\n",
            "Epoch 4/20\n",
            "893/893 [==============================] - 26s 29ms/step - loss: 0.7205 - mae: 0.3493 - mse: 0.1661 - val_loss: 0.6679 - val_mae: 0.3220 - val_mse: 0.1451 - lr: 5.0000e-05\n",
            "Epoch 5/20\n",
            "893/893 [==============================] - 26s 29ms/step - loss: 0.6103 - mae: 0.2907 - mse: 0.1188 - val_loss: 0.5977 - val_mae: 0.2844 - val_mse: 0.1152 - lr: 6.5000e-05\n",
            "Epoch 6/20\n",
            "893/893 [==============================] - 26s 29ms/step - loss: 0.5733 - mae: 0.2685 - mse: 0.1028 - val_loss: 0.5715 - val_mae: 0.2693 - val_mse: 0.1038 - lr: 8.0000e-05\n",
            "Epoch 7/20\n",
            "893/893 [==============================] - 27s 30ms/step - loss: 0.5544 - mae: 0.2562 - mse: 0.0947 - val_loss: 0.5574 - val_mae: 0.2603 - val_mse: 0.0978 - lr: 6.4200e-05\n",
            "Epoch 8/20\n",
            "893/893 [==============================] - 26s 29ms/step - loss: 0.5426 - mae: 0.2479 - mse: 0.0899 - val_loss: 0.5478 - val_mae: 0.2536 - val_mse: 0.0939 - lr: 5.1560e-05\n",
            "Epoch 9/20\n",
            "893/893 [==============================] - 26s 29ms/step - loss: 0.5334 - mae: 0.2413 - mse: 0.0862 - val_loss: 0.5403 - val_mae: 0.2482 - val_mse: 0.0909 - lr: 4.1448e-05\n",
            "Epoch 10/20\n",
            "893/893 [==============================] - 26s 29ms/step - loss: 0.5262 - mae: 0.2360 - mse: 0.0834 - val_loss: 0.5346 - val_mae: 0.2439 - val_mse: 0.0886 - lr: 3.3358e-05\n",
            "Epoch 11/20\n",
            "893/893 [==============================] - 26s 29ms/step - loss: 0.5207 - mae: 0.2319 - mse: 0.0812 - val_loss: 0.5306 - val_mae: 0.2407 - val_mse: 0.0871 - lr: 2.6887e-05\n",
            "Epoch 12/20\n",
            "893/893 [==============================] - 26s 29ms/step - loss: 0.5165 - mae: 0.2288 - mse: 0.0796 - val_loss: 0.5276 - val_mae: 0.2384 - val_mse: 0.0860 - lr: 2.1709e-05\n",
            "Epoch 13/20\n",
            "893/893 [==============================] - 26s 29ms/step - loss: 0.5132 - mae: 0.2264 - mse: 0.0784 - val_loss: 0.5254 - val_mae: 0.2366 - val_mse: 0.0851 - lr: 1.7568e-05\n",
            "Epoch 14/20\n",
            "893/893 [==============================] - 26s 29ms/step - loss: 0.5108 - mae: 0.2245 - mse: 0.0775 - val_loss: 0.5238 - val_mae: 0.2352 - val_mse: 0.0845 - lr: 1.4254e-05\n",
            "Epoch 15/20\n",
            "893/893 [==============================] - 26s 29ms/step - loss: 0.5088 - mae: 0.2231 - mse: 0.0768 - val_loss: 0.5225 - val_mae: 0.2342 - val_mse: 0.0840 - lr: 1.1603e-05\n",
            "Epoch 16/20\n",
            "893/893 [==============================] - 26s 29ms/step - loss: 0.5073 - mae: 0.2219 - mse: 0.0762 - val_loss: 0.5215 - val_mae: 0.2333 - val_mse: 0.0837 - lr: 9.4826e-06\n",
            "Epoch 17/20\n",
            "893/893 [==============================] - 26s 29ms/step - loss: 0.5061 - mae: 0.2210 - mse: 0.0758 - val_loss: 0.5207 - val_mae: 0.2326 - val_mse: 0.0834 - lr: 7.7860e-06\n",
            "Epoch 18/20\n",
            "893/893 [==============================] - 26s 29ms/step - loss: 0.5051 - mae: 0.2202 - mse: 0.0754 - val_loss: 0.5200 - val_mae: 0.2321 - val_mse: 0.0832 - lr: 6.4288e-06\n",
            "Epoch 19/20\n",
            "893/893 [==============================] - 25s 28ms/step - loss: 0.5043 - mae: 0.2196 - mse: 0.0751 - val_loss: 0.5195 - val_mae: 0.2316 - val_mse: 0.0830 - lr: 5.3431e-06\n",
            "Epoch 20/20\n",
            "893/893 [==============================] - 24s 27ms/step - loss: 0.5036 - mae: 0.2191 - mse: 0.0749 - val_loss: 0.5191 - val_mae: 0.2313 - val_mse: 0.0828 - lr: 4.4745e-06\n"
          ]
        }
      ]
    },
    {
      "cell_type": "code",
      "source": [
        "import matplotlib.pyplot as plt\n",
        "%matplotlib inline\n",
        "\n",
        "plt.plot(history.history[\"loss\"][0:-2])\n",
        "plt.plot(history.history[\"val_loss\"][0:-2])\n",
        "plt.title(\"model loss\")\n",
        "plt.ylabel(\"loss\")\n",
        "plt.xlabel(\"epoch\")\n",
        "plt.legend([\"train\", \"test\"], loc=\"upper left\")\n",
        "plt.show()"
      ],
      "metadata": {
        "colab": {
          "base_uri": "https://localhost:8080/",
          "height": 472
        },
        "id": "P8V9C4huLNPJ",
        "outputId": "e198c8b0-de08-47c0-c48a-e9aa22a32001"
      },
      "execution_count": 15,
      "outputs": [
        {
          "output_type": "display_data",
          "data": {
            "text/plain": [
              "<Figure size 640x480 with 1 Axes>"
            ],
            "image/png": "[encoded data removed]"
          },
          "metadata": {}
        }
      ]
    },
    {
      "cell_type": "code",
      "source": [
        "def extract_weights(name, model):\n",
        "    weight_layer = model.get_layer(name)\n",
        "    weights = weight_layer.get_weights()[0]\n",
        "    weights = weights / np.linalg.norm(weights, axis = 1).reshape((-1, 1))\n",
        "    return weights\n",
        "\n",
        "anime_weights = extract_weights('anime_embedding', model)\n",
        "user_weights = extract_weights('user_embedding', model)"
      ],
      "metadata": {
        "id": "E8RXX5QUpnIH"
      },
      "execution_count": 16,
      "outputs": []
    },
    {
      "cell_type": "code",
      "source": [
        "df = pd.read_csv('/content/drive/MyDrive/Colab Notebooks/CS4824Project/animelist.csv', low_memory=True)\n",
        "df = df.replace(\"Unknown\", np.nan)"
      ],
      "metadata": {
        "id": "YmcyHnGgpsBw"
      },
      "execution_count": 17,
      "outputs": []
    }
  ]
}